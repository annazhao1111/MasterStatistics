{
  "nbformat": 4,
  "nbformat_minor": 0,
  "metadata": {
    "kernelspec": {
      "display_name": "Python 3",
      "language": "python",
      "name": "python3"
    },
    "language_info": {
      "codemirror_mode": {
        "name": "ipython",
        "version": 3
      },
      "file_extension": ".py",
      "mimetype": "text/x-python",
      "name": "python",
      "nbconvert_exporter": "python",
      "pygments_lexer": "ipython3",
      "version": "3.7.4"
    },
    "colab": {
      "name": "stats_whatRdata_types.ipynb",
      "provenance": [],
      "include_colab_link": true
    }
  },
  "cells": [
    {
      "cell_type": "markdown",
      "metadata": {
        "id": "view-in-github",
        "colab_type": "text"
      },
      "source": [
        "<a href=\"https://colab.research.google.com/github/annazhao1111/MasterStatistics/blob/master/stats_whatRdata_types.ipynb\" target=\"_parent\"><img src=\"https://colab.research.google.com/assets/colab-badge.svg\" alt=\"Open In Colab\"/></a>"
      ]
    },
    {
      "cell_type": "markdown",
      "metadata": {
        "id": "nBYBg7fPyFBO",
        "colab_type": "text"
      },
      "source": [
        "# COURSE: Master statistics and machine learning: intuition, math, code\n",
        "##### COURSE URL: udemy.com/course/statsml_x/?couponCode=202006 \n",
        "## SECTION: What are (is?) data?\n",
        "### VIDEO: Code: Representing types of data on computers\n",
        "#### TEACHER: Mike X Cohen, sincxpress.com\n"
      ]
    },
    {
      "cell_type": "code",
      "metadata": {
        "id": "N_KhH7TByFBP",
        "colab_type": "code",
        "colab": {}
      },
      "source": [
        "## create variables of different types (classes)\n",
        "\n",
        "# data numerical (here as a list)\n",
        "numdata = [ 1, 7, 17, 1717 ]\n",
        "\n",
        "# character / string\n",
        "chardata = 'xyz'\n",
        "\n",
        "# double-quotes also fine\n",
        "strdata = \"x\"\n",
        "\n",
        "# boolean (aka logical)\n",
        "logitdata = True # notice capitalization!\n",
        "\n",
        "# a list can be used like a MATLAB cell\n",
        "listdata = [ [3, 4, 34] , 'hello' , 4 ]\n",
        "\n",
        "# dict (kindof similar to MATLAB structure)\n",
        "dictdata = dict()\n",
        "dictdata['name'] = 'Mike'\n",
        "dictdata['age'] = 25\n",
        "dictdata['occupation'] = 'Nerdoscientist'\n"
      ],
      "execution_count": 1,
      "outputs": []
    },
    {
      "cell_type": "code",
      "metadata": {
        "id": "o_lTXtEtyFBS",
        "colab_type": "code",
        "colab": {
          "base_uri": "https://localhost:8080/",
          "height": 153
        },
        "outputId": "d8956395-e8af-4042-db88-544cc76fb6f3"
      },
      "source": [
        "# let's see what the workspace looks like\n",
        "%whos"
      ],
      "execution_count": 2,
      "outputs": [
        {
          "output_type": "stream",
          "text": [
            "Variable    Type    Data/Info\n",
            "-----------------------------\n",
            "chardata    str     xyz\n",
            "dictdata    dict    n=3\n",
            "listdata    list    n=3\n",
            "logitdata   bool    True\n",
            "numdata     list    n=4\n",
            "strdata     str     x\n"
          ],
          "name": "stdout"
        }
      ]
    },
    {
      "cell_type": "code",
      "metadata": {
        "id": "FzCJDUgvyFBV",
        "colab_type": "code",
        "colab": {}
      },
      "source": [
        "# clear the Python workspace\n",
        "%reset -sf"
      ],
      "execution_count": 3,
      "outputs": []
    },
    {
      "cell_type": "code",
      "metadata": {
        "id": "ruJbKooYyFBX",
        "colab_type": "code",
        "colab": {}
      },
      "source": [
        ""
      ],
      "execution_count": null,
      "outputs": []
    }
  ]
}